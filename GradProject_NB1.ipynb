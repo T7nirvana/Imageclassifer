{
 "cells": [
  {
   "cell_type": "markdown",
   "metadata": {},
   "source": [
    "<h1> DS200A Computer Vision Assignment</h1>"
   ]
  },
  {
   "cell_type": "markdown",
   "metadata": {},
   "source": [
    "<h2>  Part One: Data Input </h2>\t\n"
   ]
  },
  {
   "cell_type": "markdown",
   "metadata": {},
   "source": [
    "<h3>  Import Statements </h3>\t\n"
   ]
  },
  {
   "cell_type": "code",
   "execution_count": 15,
   "metadata": {},
   "outputs": [],
   "source": [
    "#Import anything you need here\n",
    "import numpy as np\n",
    "import matplotlib.pyplot as plt\n",
    "import pandas as pd\n",
    "import matplotlib\n",
    "import skimage\n",
    "from skimage import data\n",
    "from skimage import io\n",
    "import os\n",
    "import re"
   ]
  },
  {
   "cell_type": "markdown",
   "metadata": {},
   "source": [
    "<h4> Using the code for reference, take the given folder and create a dataframe with the picture object, and the encoding as listed below. </h4>\t\n",
    "0=Airplanes, 1=Bear, 2=Blimp, 3=Comet, 4=Crab, 5=Dog, 6=Dolphin, 7=Giraffe, 8=Goat, 9=Gorilla, 10=Kangaroo, 11=Killer-Whale, 12=Leopards, 13=Llama, 14= Penguin, 15= Porcupine, 16=Teddy-Bear, 17=Triceratops, 18=Unicorn, 19=Zebra"
   ]
  },
  {
   "cell_type": "code",
   "execution_count": 59,
   "metadata": {},
   "outputs": [],
   "source": [
    "def read_organize_data(file_path,label=True):\n",
    "    #Fill this function out, should return a dataframe with picture object, and correct encoding\n",
    "    train_file = os.path.join(os.getcwd(), file_path+'/'+file_path) if label==True else os.path.join(os.getcwd(), file_path)\n",
    "    train_list=os.listdir(train_file)\n",
    "    training_list=[i for i in train_list if not re.match(\"\\.\", i) ]\n",
    "    imgdict={'airplanes':0, 'bear':1, 'blimp':2, 'comet':3, 'crab':4, 'dog':5, 'dolphin':6, 'giraffe':7, 'goat':8, 'gorilla':9, 'kangaroo':10, 'killer-whale':11, 'leopards':12, 'llama':13, 'penguin':14, 'porcupine':15, 'teddy-bear':16, 'triceratops':17, 'unicorn':18, 'zebra':19}\n",
    "\n",
    "    pictures=[]\n",
    "    encodings=[]\n",
    "    if label==True:\n",
    "        for file in training_list:\n",
    "            imgfile=os.path.join(train_file,file)\n",
    "            for img in filter((lambda x: not re.match(\"\\.\", x)),os.listdir(imgfile)):\n",
    "                imgname=os.path.join(imgfile,img)\n",
    "                pictures.append(io.imread(imgname))\n",
    "                encodings.append(imgdict[file])\n",
    "    else:\n",
    "        for file in training_list:\n",
    "            imgname=os.path.join(train_file,file)\n",
    "            pictures.append(io.imread(imgname))\n",
    "\n",
    "    if label==True:\n",
    "        imgframe= pd.DataFrame({'Pictures':pictures,'Encoding':encodings})\n",
    "    else:\n",
    "        imgframe= pd.DataFrame({'Pictures':pictures})\n",
    "    return imgframe\n",
    "\n",
    "#for root, dirs, files in os.walk(train_file, topdown=False):\n",
    "#skimage.io.imshow(imgframe.iloc[0]['Encoding'])"
   ]
  },
  {
   "cell_type": "code",
   "execution_count": 60,
   "metadata": {},
   "outputs": [],
   "source": [
    "train = read_organize_data(\"20_categories_training\")\n",
    "test=read_organize_data(\"20_Validation\",False)"
   ]
  }
 ],
 "metadata": {
  "kernelspec": {
   "display_name": "Python 3",
   "language": "python",
   "name": "python3"
  },
  "language_info": {
   "codemirror_mode": {
    "name": "ipython",
    "version": 3
   },
   "file_extension": ".py",
   "mimetype": "text/x-python",
   "name": "python",
   "nbconvert_exporter": "python",
   "pygments_lexer": "ipython3",
   "version": "3.7.5"
  }
 },
 "nbformat": 4,
 "nbformat_minor": 2
}
